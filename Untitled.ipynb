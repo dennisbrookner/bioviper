{
 "cells": [
  {
   "cell_type": "code",
   "execution_count": 41,
   "id": "6bce3d02-a429-4a8c-9f6c-0f41284bc0fa",
   "metadata": {},
   "outputs": [],
   "source": [
    "import numpy as np\n",
    "import matplotlib.pyplot as plt"
   ]
  },
  {
   "cell_type": "code",
   "execution_count": 97,
   "id": "93596cae-3c9c-4508-93a5-4ceaf202347a",
   "metadata": {},
   "outputs": [],
   "source": [
    "F = np.array([366.98, 111.95, 72.12])\n",
    "phi = np.array([332.08, 45.79, 11.90]) / 360 * 2 * np.pi"
   ]
  },
  {
   "cell_type": "code",
   "execution_count": 43,
   "id": "a7f2ddaf-5165-4574-aa2c-00a95d0a6e31",
   "metadata": {},
   "outputs": [
    {
     "data": {
      "text/plain": [
       "array([5.79588938, 0.79918626, 0.20769418])"
      ]
     },
     "execution_count": 43,
     "metadata": {},
     "output_type": "execute_result"
    }
   ],
   "source": [
    "phi"
   ]
  },
  {
   "cell_type": "code",
   "execution_count": 98,
   "id": "ea6fb0af-6a6c-4531-84a4-34fa6e6fc56e",
   "metadata": {},
   "outputs": [
    {
     "name": "stdout",
     "output_type": "stream",
     "text": [
      "[324.26434928-171.83408331j  78.06163976 +80.24451942j\n",
      "  70.57006801 +14.87144585j]\n"
     ]
    }
   ],
   "source": [
    "a = F * np.exp(1j * phi)\n",
    "print(a)"
   ]
  },
  {
   "cell_type": "code",
   "execution_count": 56,
   "id": "67d4771e-d7f5-4291-89e5-0f056566e238",
   "metadata": {},
   "outputs": [
    {
     "data": {
      "text/plain": [
       "[<matplotlib.lines.Line2D at 0x7fec303f4520>]"
      ]
     },
     "execution_count": 56,
     "metadata": {},
     "output_type": "execute_result"
    },
    {
     "data": {
      "image/png": "[encoded data removed]",
      "text/plain": [
       "<Figure size 432x288 with 1 Axes>"
      ]
     },
     "metadata": {
      "needs_background": "light"
     },
     "output_type": "display_data"
    }
   ],
   "source": [
    "plt.plot([0, a[0].real], [0, a[0].imag], head)"
   ]
  },
  {
   "cell_type": "code",
   "execution_count": 95,
   "id": "d51c5090-2957-40f9-ad9e-6ba8d5b959da",
   "metadata": {},
   "outputs": [
    {
     "data": {
      "text/plain": [
       "array([324.26434928-171.83408331j,  78.06163976 +80.24451942j,\n",
       "        16.75207382  +3.53021565j])"
      ]
     },
     "execution_count": 95,
     "metadata": {},
     "output_type": "execute_result"
    }
   ],
   "source": [
    "a"
   ]
  },
  {
   "cell_type": "code",
   "execution_count": 102,
   "id": "3c3271f6-6976-4080-8912-5da0aa9e2720",
   "metadata": {},
   "outputs": [
    {
     "data": {
      "text/plain": [
       "(-17.745934766023797,\n",
       " 357.2127669076282,\n",
       " -190.31261592540287,\n",
       " 30.792743365549814)"
      ]
     },
     "execution_count": 102,
     "metadata": {},
     "output_type": "execute_result"
    },
    {
     "data": {
      "image/png": "[encoded data removed]",
      "text/plain": [
       "<Figure size 216x216 with 1 Axes>"
      ]
     },
     "metadata": {
      "needs_background": "light"
     },
     "output_type": "display_data"
    }
   ],
   "source": [
    "\n",
    "plt.figure(figsize=(3,3))\n",
    "plt.arrow(0, 0, a[0].real, a[0].imag, width=3, head_width=12, color='dodgerblue')\n",
    "plt.arrow(0, 0, a[2].real, a[2].imag, width=3, head_width=12, color='orange')\n",
    "\n",
    "plt.axhline(0, c='gray')\n",
    "plt.axvline(0, c='gray')\n",
    "plt.axis('off')"
   ]
  },
  {
   "cell_type": "code",
   "execution_count": 107,
   "id": "ef4c4a98-495d-4f3b-a09f-f33636c2a3a5",
   "metadata": {},
   "outputs": [
    {
     "data": {
      "text/plain": [
       "(-17.745934766023797,\n",
       " 357.2127669076282,\n",
       " -30.792743365549814,\n",
       " 190.31261592540287)"
      ]
     },
     "execution_count": 107,
     "metadata": {},
     "output_type": "execute_result"
    },
    {
     "data": {
      "image/png": "[encoded data removed]",
      "text/plain": [
       "<Figure size 216x216 with 1 Axes>"
      ]
     },
     "metadata": {
      "needs_background": "light"
     },
     "output_type": "display_data"
    }
   ],
   "source": [
    "\n",
    "plt.figure(figsize=(3,3))\n",
    "plt.arrow(0, 0, a[0].conjugate().real, a[0].conjugate().imag, width=3, head_width=12, color='dodgerblue')\n",
    "plt.arrow(0, 0, a[2].conjugate().real, a[2].conjugate().imag, width=3, head_width=12, color='orange')\n",
    "\n",
    "plt.axhline(0, c='gray')\n",
    "plt.axvline(0, c='gray')\n",
    "plt.axis('off')"
   ]
  },
  {
   "cell_type": "code",
   "execution_count": 116,
   "id": "aa218f85-b0a7-453f-a457-7c7930fdffb4",
   "metadata": {},
   "outputs": [
    {
     "data": {
      "text/plain": [
       "(-281.64551032989885,\n",
       " 14.343126445654475,\n",
       " -11.137239969123069,\n",
       " 207.30383914068702)"
      ]
     },
     "execution_count": 116,
     "metadata": {},
     "output_type": "execute_result"
    },
    {
     "data": {
      "image/png": "[encoded data removed]",
      "text/plain": [
       "<Figure size 216x216 with 1 Axes>"
      ]
     },
     "metadata": {
      "needs_background": "light"
     },
     "output_type": "display_data"
    }
   ],
   "source": [
    "plt.figure(figsize=(3,3))\n",
    "plt.arrow(0, 0, (a[2] - a[0]).real, (a[2] - a[0]).imag, width=3, head_width=12, color='black')\n",
    "\n",
    "plt.axhline(0, c='gray')\n",
    "plt.axvline(0, c='gray')\n",
    "plt.axis('off')"
   ]
  },
  {
   "cell_type": "code",
   "execution_count": 117,
   "id": "13619dab-2563-45c0-a269-ffc44343454f",
   "metadata": {},
   "outputs": [
    {
     "data": {
      "text/plain": [
       "(-298.6095149327746,\n",
       " 370.58722310604486,\n",
       " -199.1442258963896,\n",
       " 216.25655275627113)"
      ]
     },
     "execution_count": 117,
     "metadata": {},
     "output_type": "execute_result"
    },
    {
     "data": {
      "image/png": "[encoded data removed]",
      "text/plain": [
       "<Figure size 216x216 with 1 Axes>"
      ]
     },
     "metadata": {
      "needs_background": "light"
     },
     "output_type": "display_data"
    }
   ],
   "source": [
    "plt.figure(figsize=(3,3))\n",
    "plt.arrow(0, 0, a[0].real, a[0].imag, width=3, head_width=12, color='dodgerblue')\n",
    "plt.arrow(0, 0, a[2].real, a[2].imag, width=3, head_width=12, color='orange')\n",
    "plt.arrow(0, 0, (a[2] - a[0]).real, (a[2] - a[0]).imag, width=3, head_width=12, color='black')\n",
    "\n",
    "plt.axhline(0, c='gray')\n",
    "plt.axvline(0, c='gray')\n",
    "plt.axis('off')"
   ]
  },
  {
   "cell_type": "code",
   "execution_count": 111,
   "id": "3eeac684-c12c-44ef-88b4-2ec0fc726e3a",
   "metadata": {},
   "outputs": [
    {
     "data": {
      "text/plain": [
       "314.99165539789175"
      ]
     },
     "execution_count": 111,
     "metadata": {},
     "output_type": "execute_result"
    }
   ],
   "source": [
    "np.abs(a[2] - a[0])"
   ]
  },
  {
   "cell_type": "code",
   "execution_count": 121,
   "id": "1acd1846-e77d-48a9-804d-cd716f229d02",
   "metadata": {},
   "outputs": [
    {
     "data": {
      "text/plain": [
       "(-10.404792140805373,\n",
       " 189.34176110517697,\n",
       " -17.745934766023797,\n",
       " 357.2127669076282)"
      ]
     },
     "execution_count": 121,
     "metadata": {},
     "output_type": "execute_result"
    },
    {
     "data": {
      "image/png": "[encoded data removed]",
      "text/plain": [
       "<Figure size 216x216 with 1 Axes>"
      ]
     },
     "metadata": {
      "needs_background": "light"
     },
     "output_type": "display_data"
    }
   ],
   "source": [
    "plt.figure(figsize=(3,3))\n",
    "x = a[0] * np.exp(1j * np.pi / 2 )\n",
    "plt.arrow(0, 0, x.real, x.imag, width=3, head_width=12, color='red')\n",
    "\n",
    "plt.axhline(0, c='gray')\n",
    "plt.axvline(0, c='gray')\n",
    "plt.axis('off')"
   ]
  },
  {
   "cell_type": "code",
   "execution_count": 129,
   "id": "076fd1ef-3c09-4245-a1da-53315c67a1cf",
   "metadata": {},
   "outputs": [
    {
     "data": {
      "text/plain": [
       "(-200.0, 350.0)"
      ]
     },
     "execution_count": 129,
     "metadata": {},
     "output_type": "execute_result"
    },
    {
     "data": {
      "image/png": "[encoded data removed]",
      "text/plain": [
       "<Figure size 216x216 with 1 Axes>"
      ]
     },
     "metadata": {
      "needs_background": "light"
     },
     "output_type": "display_data"
    }
   ],
   "source": [
    "plt.figure(figsize=(3,3))\n",
    "x = a[0] * np.exp(1j * np.pi / 2 )\n",
    "plt.arrow(0, 0, x.real, x.imag, width=3, head_width=12, color='red')\n",
    "plt.arrow(0, 0, a[0].real, a[0].imag, width=3, head_width=12, color='dodgerblue')\n",
    "\n",
    "plt.axhline(0, c='gray')\n",
    "plt.axvline(0, c='gray')\n",
    "plt.axis('off')\n",
    "\n",
    "plt.ylim(-200,350)\n",
    "plt.xlim(-200,350)"
   ]
  },
  {
   "cell_type": "code",
   "execution_count": 118,
   "id": "6ca74220-55cd-4ca9-997d-05136cd58ba3",
   "metadata": {},
   "outputs": [
    {
     "data": {
      "text/plain": [
       "(171.83408331461163+324.2643492760608j)"
      ]
     },
     "execution_count": 118,
     "metadata": {},
     "output_type": "execute_result"
    }
   ],
   "source": [
    "a[0] * np.exp(1j * np.pi / 2 )"
   ]
  },
  {
   "cell_type": "code",
   "execution_count": 114,
   "id": "486f8be2-acb8-45b4-9a4c-2da71281c8eb",
   "metadata": {},
   "outputs": [
    {
     "data": {
      "text/plain": [
       "143.64890380801998"
      ]
     },
     "execution_count": 114,
     "metadata": {},
     "output_type": "execute_result"
    }
   ],
   "source": [
    "np.arccos(((a[2] - a[0])/np.abs(a[2] - a[0])).real) * 360 / 2 / np.pi"
   ]
  },
  {
   "cell_type": "code",
   "execution_count": 16,
   "id": "13ad75e2-1a8b-458e-8f19-2d53963e3ed9",
   "metadata": {},
   "outputs": [
    {
     "data": {
      "text/plain": [
       "array([1.+0.j, 1.+0.j, 1.+0.j])"
      ]
     },
     "execution_count": 16,
     "metadata": {},
     "output_type": "execute_result"
    }
   ],
   "source": [
    "a * a.conjugate()"
   ]
  },
  {
   "cell_type": "code",
   "execution_count": 21,
   "id": "ba4ed1a7-83a7-4ae3-9c72-69a68308b9f0",
   "metadata": {},
   "outputs": [
    {
     "data": {
      "text/plain": [
       "array([219.73971624, -34.88682425,  13.45752347])"
      ]
     },
     "execution_count": 21,
     "metadata": {},
     "output_type": "execute_result"
    }
   ],
   "source": [
    "F * np.cos(phi)"
   ]
  },
  {
   "cell_type": "code",
   "execution_count": 36,
   "id": "ae618d39-4a24-4be7-b351-8ef231cdfbcb",
   "metadata": {},
   "outputs": [
    {
     "data": {
      "text/plain": [
       "array([-171.83408331,   80.35343578,    3.53021565])"
      ]
     },
     "execution_count": 36,
     "metadata": {},
     "output_type": "execute_result"
    }
   ],
   "source": [
    "F * np.sin(phi)"
   ]
  },
  {
   "cell_type": "code",
   "execution_count": 29,
   "id": "ebfdc34f-5832-4c22-9370-fe8ceeaba6b4",
   "metadata": {},
   "outputs": [
    {
     "data": {
      "text/plain": [
       "array([-0.84995228,  0.52570562, -0.31755271])"
      ]
     },
     "execution_count": 29,
     "metadata": {},
     "output_type": "execute_result"
    }
   ],
   "source": [
    "np.cos(phi)"
   ]
  },
  {
   "cell_type": "code",
   "execution_count": 28,
   "id": "b26746e7-eeef-4d44-abd9-a72d66095517",
   "metadata": {},
   "outputs": [
    {
     "data": {
      "text/plain": [
       "array([52.8521735 ,  7.30043724,  1.89394382])"
      ]
     },
     "execution_count": 28,
     "metadata": {},
     "output_type": "execute_result"
    }
   ],
   "source": [
    "phi"
   ]
  },
  {
   "cell_type": "code",
   "execution_count": 31,
   "id": "acb7dd6f-9873-4acd-a38b-91cbdddf95a0",
   "metadata": {},
   "outputs": [
    {
     "data": {
      "text/plain": [
       "211.35776442603702"
      ]
     },
     "execution_count": 31,
     "metadata": {},
     "output_type": "execute_result"
    }
   ],
   "source": [
    "332 / np.pi * 2"
   ]
  },
  {
   "cell_type": "code",
   "execution_count": null,
   "id": "c2423570-f5bb-4dec-9393-c5ea2111ac9b",
   "metadata": {},
   "outputs": [],
   "source": []
  }
 ],
 "metadata": {
  "kernelspec": {
   "display_name": "Python 3",
   "language": "python",
   "name": "python3"
  },
  "language_info": {
   "codemirror_mode": {
    "name": "ipython",
    "version": 3
   },
   "file_extension": ".py",
   "mimetype": "text/x-python",
   "name": "python",
   "nbconvert_exporter": "python",
   "pygments_lexer": "ipython3",
   "version": "3.8.8"
  }
 },
 "nbformat": 4,
 "nbformat_minor": 5
}
